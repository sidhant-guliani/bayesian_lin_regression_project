{
 "cells": [
  {
   "cell_type": "markdown",
   "metadata": {},
   "source": [
    "#### Dirichlet-multinomial distribution"
   ]
  },
  {
   "cell_type": "markdown",
   "metadata": {},
   "source": [
    "### http://users.cecs.anu.edu.au/~ssanner/MLSS2010/Johnson1.pdf\n"
   ]
  },
  {
   "cell_type": "code",
   "execution_count": 14,
   "metadata": {},
   "outputs": [],
   "source": [
    "import numpy as np\n",
    "import matplotlib.pyplot as plt\n",
    "import seaborn as sns\n",
    "%matplotlib inline\n",
    "\n",
    "import pymc3 as pm\n",
    "\n",
    "import pandas as pd"
   ]
  },
  {
   "cell_type": "code",
   "execution_count": 9,
   "metadata": {},
   "outputs": [],
   "source": [
    "def display_probs(d):\n",
    "    for key, value in d.items():\n",
    "        print(f'Species: {key:8} Prevalence: {100*value:.2f}%.')"
   ]
  },
  {
   "cell_type": "code",
   "execution_count": 6,
   "metadata": {},
   "outputs": [],
   "source": [
    "animals = ['lions', 'tigers', 'bears']\n",
    "c = np.array([3, 2, 1])\n"
   ]
  },
  {
   "cell_type": "code",
   "execution_count": 7,
   "metadata": {},
   "outputs": [],
   "source": [
    "# hyperparameters (initially all equal)\n",
    "alphas = np.array([1, 1, 1])"
   ]
  },
  {
   "cell_type": "code",
   "execution_count": 10,
   "metadata": {},
   "outputs": [
    {
     "name": "stdout",
     "output_type": "stream",
     "text": [
      "Species: lions    Prevalence: 44.44%.\n",
      "Species: tigers   Prevalence: 33.33%.\n",
      "Species: bears    Prevalence: 22.22%.\n"
     ]
    }
   ],
   "source": [
    "display_probs(dict(zip(animals, (alphas + c) / (c.sum() + alphas.sum()))))"
   ]
  },
  {
   "cell_type": "markdown",
   "metadata": {},
   "source": [
    "### These values are expected. W ea renot taking the factor of uncertainity due to the limited data when we are computing this. "
   ]
  },
  {
   "cell_type": "code",
   "execution_count": 11,
   "metadata": {},
   "outputs": [],
   "source": [
    "# unequal hyper parameter values:\n",
    "alpha_list = [np.array([0.1, 0.1, 0.1]), np.array([1, 1, 1]),\n",
    "                    np.array([5, 5, 5]), np.array([15, 15, 15])]"
   ]
  },
  {
   "cell_type": "code",
   "execution_count": 15,
   "metadata": {},
   "outputs": [
    {
     "data": {
      "text/html": [
       "<div>\n",
       "<style scoped>\n",
       "    .dataframe tbody tr th:only-of-type {\n",
       "        vertical-align: middle;\n",
       "    }\n",
       "\n",
       "    .dataframe tbody tr th {\n",
       "        vertical-align: top;\n",
       "    }\n",
       "\n",
       "    .dataframe thead th {\n",
       "        text-align: right;\n",
       "    }\n",
       "</style>\n",
       "<table border=\"1\" class=\"dataframe\">\n",
       "  <thead>\n",
       "    <tr style=\"text-align: right;\">\n",
       "      <th></th>\n",
       "      <th>lions</th>\n",
       "      <th>tigers</th>\n",
       "      <th>bears</th>\n",
       "      <th>alphas</th>\n",
       "    </tr>\n",
       "  </thead>\n",
       "  <tbody>\n",
       "    <tr>\n",
       "      <td>0</td>\n",
       "      <td>0.492063</td>\n",
       "      <td>0.333333</td>\n",
       "      <td>0.174603</td>\n",
       "      <td>[0.1 0.1 0.1]</td>\n",
       "    </tr>\n",
       "    <tr>\n",
       "      <td>1</td>\n",
       "      <td>0.444444</td>\n",
       "      <td>0.333333</td>\n",
       "      <td>0.222222</td>\n",
       "      <td>[1 1 1]</td>\n",
       "    </tr>\n",
       "    <tr>\n",
       "      <td>2</td>\n",
       "      <td>0.380952</td>\n",
       "      <td>0.333333</td>\n",
       "      <td>0.285714</td>\n",
       "      <td>[5 5 5]</td>\n",
       "    </tr>\n",
       "    <tr>\n",
       "      <td>3</td>\n",
       "      <td>0.352941</td>\n",
       "      <td>0.333333</td>\n",
       "      <td>0.313725</td>\n",
       "      <td>[15 15 15]</td>\n",
       "    </tr>\n",
       "  </tbody>\n",
       "</table>\n",
       "</div>"
      ],
      "text/plain": [
       "      lions    tigers     bears         alphas\n",
       "0  0.492063  0.333333  0.174603  [0.1 0.1 0.1]\n",
       "1  0.444444  0.333333  0.222222        [1 1 1]\n",
       "2  0.380952  0.333333  0.285714        [5 5 5]\n",
       "3  0.352941  0.333333  0.313725     [15 15 15]"
      ]
     },
     "execution_count": 15,
     "metadata": {},
     "output_type": "execute_result"
    }
   ],
   "source": [
    "values = []\n",
    "\n",
    "for alpha_new in alpha_list:\n",
    "    values.append((alpha_new + c) / (c.sum() + alpha_new.sum()))\n",
    "\n",
    "value_df = pd.DataFrame(values, columns = animals)\n",
    "value_df['alphas'] = [str(x) for x in alpha_list]\n",
    "value_df"
   ]
  },
  {
   "cell_type": "code",
   "execution_count": 17,
   "metadata": {},
   "outputs": [
    {
     "data": {
      "text/html": [
       "<div>\n",
       "<style scoped>\n",
       "    .dataframe tbody tr th:only-of-type {\n",
       "        vertical-align: middle;\n",
       "    }\n",
       "\n",
       "    .dataframe tbody tr th {\n",
       "        vertical-align: top;\n",
       "    }\n",
       "\n",
       "    .dataframe thead th {\n",
       "        text-align: right;\n",
       "    }\n",
       "</style>\n",
       "<table border=\"1\" class=\"dataframe\">\n",
       "  <thead>\n",
       "    <tr style=\"text-align: right;\">\n",
       "      <th></th>\n",
       "      <th>alphas</th>\n",
       "      <th>species</th>\n",
       "      <th>prevalence</th>\n",
       "    </tr>\n",
       "  </thead>\n",
       "  <tbody>\n",
       "    <tr>\n",
       "      <td>0</td>\n",
       "      <td>[0.1 0.1 0.1]</td>\n",
       "      <td>lions</td>\n",
       "      <td>0.492063</td>\n",
       "    </tr>\n",
       "    <tr>\n",
       "      <td>1</td>\n",
       "      <td>[1 1 1]</td>\n",
       "      <td>lions</td>\n",
       "      <td>0.444444</td>\n",
       "    </tr>\n",
       "    <tr>\n",
       "      <td>2</td>\n",
       "      <td>[5 5 5]</td>\n",
       "      <td>lions</td>\n",
       "      <td>0.380952</td>\n",
       "    </tr>\n",
       "    <tr>\n",
       "      <td>3</td>\n",
       "      <td>[15 15 15]</td>\n",
       "      <td>lions</td>\n",
       "      <td>0.352941</td>\n",
       "    </tr>\n",
       "    <tr>\n",
       "      <td>4</td>\n",
       "      <td>[0.1 0.1 0.1]</td>\n",
       "      <td>tigers</td>\n",
       "      <td>0.333333</td>\n",
       "    </tr>\n",
       "    <tr>\n",
       "      <td>5</td>\n",
       "      <td>[1 1 1]</td>\n",
       "      <td>tigers</td>\n",
       "      <td>0.333333</td>\n",
       "    </tr>\n",
       "    <tr>\n",
       "      <td>6</td>\n",
       "      <td>[5 5 5]</td>\n",
       "      <td>tigers</td>\n",
       "      <td>0.333333</td>\n",
       "    </tr>\n",
       "    <tr>\n",
       "      <td>7</td>\n",
       "      <td>[15 15 15]</td>\n",
       "      <td>tigers</td>\n",
       "      <td>0.333333</td>\n",
       "    </tr>\n",
       "    <tr>\n",
       "      <td>8</td>\n",
       "      <td>[0.1 0.1 0.1]</td>\n",
       "      <td>bears</td>\n",
       "      <td>0.174603</td>\n",
       "    </tr>\n",
       "    <tr>\n",
       "      <td>9</td>\n",
       "      <td>[1 1 1]</td>\n",
       "      <td>bears</td>\n",
       "      <td>0.222222</td>\n",
       "    </tr>\n",
       "    <tr>\n",
       "      <td>10</td>\n",
       "      <td>[5 5 5]</td>\n",
       "      <td>bears</td>\n",
       "      <td>0.285714</td>\n",
       "    </tr>\n",
       "    <tr>\n",
       "      <td>11</td>\n",
       "      <td>[15 15 15]</td>\n",
       "      <td>bears</td>\n",
       "      <td>0.313725</td>\n",
       "    </tr>\n",
       "  </tbody>\n",
       "</table>\n",
       "</div>"
      ],
      "text/plain": [
       "           alphas species  prevalence\n",
       "0   [0.1 0.1 0.1]   lions    0.492063\n",
       "1         [1 1 1]   lions    0.444444\n",
       "2         [5 5 5]   lions    0.380952\n",
       "3      [15 15 15]   lions    0.352941\n",
       "4   [0.1 0.1 0.1]  tigers    0.333333\n",
       "5         [1 1 1]  tigers    0.333333\n",
       "6         [5 5 5]  tigers    0.333333\n",
       "7      [15 15 15]  tigers    0.333333\n",
       "8   [0.1 0.1 0.1]   bears    0.174603\n",
       "9         [1 1 1]   bears    0.222222\n",
       "10        [5 5 5]   bears    0.285714\n",
       "11     [15 15 15]   bears    0.313725"
      ]
     },
     "execution_count": 17,
     "metadata": {},
     "output_type": "execute_result"
    }
   ],
   "source": [
    "melted = pd.melt(value_df, id_vars = 'alphas', value_name='prevalence',\n",
    "        var_name = 'species')\n",
    "melted"
   ]
  },
  {
   "cell_type": "code",
   "execution_count": 19,
   "metadata": {
    "scrolled": true
   },
   "outputs": [
    {
     "data": {
      "image/png": "[encoded data removed]",
      "text/plain": [
       "<Figure size 576x432 with 1 Axes>"
      ]
     },
     "metadata": {
      "needs_background": "light"
     },
     "output_type": "display_data"
    }
   ],
   "source": [
    "plt.figure(figsize = (8, 6))\n",
    "sns.barplot(x = 'alphas', y = 'prevalence', hue = 'species', data = melted,\n",
    "            edgecolor = 'k', linewidth = 1.5);\n",
    "plt.xticks(size = 14); plt.yticks(size = 14)\n",
    "plt.title('Expected Value');"
   ]
  },
  {
   "cell_type": "markdown",
   "metadata": {},
   "source": [
    "### as the hyperparameter value increases, the expected prevelance converges to 0.333.  with heavier priors, the observations matter less "
   ]
  },
  {
   "cell_type": "markdown",
   "metadata": {},
   "source": [
    "### on the other hand if the weights of hyperparameter is less then the observed data matters more and the expected value converges to counts. \n",
    "### the value of hyperparameter depends on our confidence in prior belied"
   ]
  },
  {
   "cell_type": "code",
   "execution_count": null,
   "metadata": {},
   "outputs": [],
   "source": []
  }
 ],
 "metadata": {
  "kernelspec": {
   "display_name": "Python 3",
   "language": "python",
   "name": "python3"
  },
  "language_info": {
   "codemirror_mode": {
    "name": "ipython",
    "version": 3
   },
   "file_extension": ".py",
   "mimetype": "text/x-python",
   "name": "python",
   "nbconvert_exporter": "python",
   "pygments_lexer": "ipython3",
   "version": "3.7.4"
  }
 },
 "nbformat": 4,
 "nbformat_minor": 2
}
